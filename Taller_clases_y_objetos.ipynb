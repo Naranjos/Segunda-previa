{
  "nbformat": 4,
  "nbformat_minor": 0,
  "metadata": {
    "colab": {
      "name": "Taller clases y objetos.ipynb",
      "provenance": [],
      "collapsed_sections": []
    },
    "kernelspec": {
      "name": "python3",
      "display_name": "Python 3"
    },
    "language_info": {
      "name": "python"
    }
  },
  "cells": [
    {
      "cell_type": "markdown",
      "metadata": {
        "id": "D8nzbIIzRsek"
      },
      "source": [
        "## PYTHON - Clases y Objetos\n",
        "\n",
        "Estos códigos muestran como crear objetos a partir de clases previamente definidas"
      ]
    },
    {
      "cell_type": "code",
      "metadata": {
        "id": "R8ujQ99BC-5e"
      },
      "source": [
        "# Crear una Clase - Versión 1.0\n",
        "\n",
        "class Perro:  # Se define una clase\n",
        "  pass  # Se omite el código\n",
        "\n",
        "p = Perro() # Se crea el objeto"
      ],
      "execution_count": null,
      "outputs": []
    },
    {
      "cell_type": "code",
      "metadata": {
        "colab": {
          "base_uri": "https://localhost:8080/"
        },
        "id": "HI4w_rOPImW2",
        "outputId": "7b47219e-ff5b-4ac1-94e9-c7fd3c6839dc"
      },
      "source": [
        "# Crear una clase - Versión 1.1\n",
        "\n",
        "class Perro:  # Se define una clase\n",
        "  def __init__(self): # Constructor\n",
        "    print(\"Constructor de objeto ejecutado\")\n",
        "\n",
        "a = Perro() # Se crea un objeto"
      ],
      "execution_count": null,
      "outputs": [
        {
          "output_type": "stream",
          "name": "stdout",
          "text": [
            "Constructor de objeto ejecutado\n"
          ]
        }
      ]
    },
    {
      "cell_type": "code",
      "metadata": {
        "id": "Tli-amtbLXg4"
      },
      "source": [
        "# Crear una clase - Versión 1.2\n",
        "\n",
        "class Perro:\n",
        "  def __init__(self, raza, nombre, edad): # Recibe la raza, el nombre y la edad\n",
        "    self.raza = raza\n",
        "    self.nombre = nombre\n",
        "    self.edad = edad\n",
        "\n",
        "p = Perro(\"Pastor Alemán\", \"Donald\", 4)\n"
      ],
      "execution_count": null,
      "outputs": []
    },
    {
      "cell_type": "code",
      "metadata": {
        "colab": {
          "base_uri": "https://localhost:8080/"
        },
        "id": "TcYLJUJ5NjHJ",
        "outputId": "fd742ceb-2982-43cb-8e9e-c5b3c75ea558"
      },
      "source": [
        "# Crear una clase - Versión 1.3\n",
        "\n",
        "class Perro:\n",
        "  def __init__(self, raza, nombre, edad): # Recibe la raza, el nombre y la edad\n",
        "    self.raza = raza\n",
        "    self.nombre = nombre\n",
        "    self.edad = edad\n",
        "  def ladrar(self):\n",
        "    print(\"Guau\")\n",
        "\n",
        "p = Perro(\"Pastor Alemán\", \"Donald\", 4)\n",
        "p.ladrar()"
      ],
      "execution_count": null,
      "outputs": [
        {
          "output_type": "stream",
          "name": "stdout",
          "text": [
            "Guau\n"
          ]
        }
      ]
    },
    {
      "cell_type": "code",
      "metadata": {
        "colab": {
          "base_uri": "https://localhost:8080/"
        },
        "id": "Ysg1SnQGOiM4",
        "outputId": "bc854af6-a3e4-44d1-da15-d6d4bdc811bf"
      },
      "source": [
        "# Crear una clase - Versión 1.4\n",
        "\n",
        "class Perro:\n",
        "  def __init__(self, raza, nombre, edad): # Recibe la raza, el nombre y la edad\n",
        "    self.raza = raza\n",
        "    self.nombre = nombre\n",
        "    self.edad = edad\n",
        "  def ladrar(self):\n",
        "    print(\"Guau\")\n",
        "  def get_raza(self): # Obtener la raza\n",
        "    print(self.raza)\n",
        "\n",
        "p = Perro(\"Pastor Alemán\", \"Donald\", 4)\n",
        "p.ladrar()\n",
        "p.get_raza()"
      ],
      "execution_count": null,
      "outputs": [
        {
          "output_type": "stream",
          "name": "stdout",
          "text": [
            "Guau\n",
            "Pastor Alemán\n"
          ]
        }
      ]
    },
    {
      "cell_type": "code",
      "metadata": {
        "colab": {
          "base_uri": "https://localhost:8080/"
        },
        "id": "Ts7WeCvXPZoy",
        "outputId": "a3cb28c3-d8ff-4924-cc3d-fa6d6af9acde"
      },
      "source": [
        "# Crear una clase - Versión 1.5\n",
        "\n",
        "class Perro:\n",
        "  def __init__(self, raza, nombre, edad): # Recibe la raza, el nombre y la edad\n",
        "    self.raza = raza\n",
        "    self.nombre = nombre\n",
        "    self.edad = edad\n",
        "  def ladrar(self):\n",
        "    print(\"Guau\")\n",
        "  def get_raza(self): # Obtener la raza\n",
        "    print(self.raza)\n",
        "  def get_nombre(self): # Obtener el nombre\n",
        "    print(self.nombre)\n",
        "  def get_edad(self): # Obtener la edad\n",
        "    print(self.edad)\n",
        "\n",
        "p = Perro(\"Pastor Alemán\", \"Donald\", 4)\n",
        "p.ladrar()\n",
        "p.get_raza()\n",
        "p.get_nombre()\n",
        "p.get_edad()"
      ],
      "execution_count": null,
      "outputs": [
        {
          "output_type": "stream",
          "name": "stdout",
          "text": [
            "Guau\n",
            "Pastor Alemán\n",
            "Donald\n",
            "4\n"
          ]
        }
      ]
    },
    {
      "cell_type": "code",
      "metadata": {
        "colab": {
          "base_uri": "https://localhost:8080/"
        },
        "id": "iELs1H03QCok",
        "outputId": "1188348c-9c39-45d0-a6c1-1e3312731d22"
      },
      "source": [
        "# Crear una clase - Versión 1.6\n",
        "\n",
        "class Perro:\n",
        "  numero_patas = 4  # Variable de clase - Pertenece a todos los objetos\n",
        "  def __init__(self, raza, nombre, edad): # Recibe la raza, el nombre y la edad\n",
        "    self.raza = raza\n",
        "    self.nombre = nombre\n",
        "    self.edad = edad\n",
        "  def ladrar(self):\n",
        "    print(\"Guau\")\n",
        "  def get_raza(self): # Obtener la raza\n",
        "    print(self.raza)\n",
        "  def get_nombre(self): # Obtener el nombre\n",
        "    print(self.nombre)\n",
        "  def get_edad(self): # Obtener la edad\n",
        "    print(self.edad)\n",
        "\n",
        "p = Perro(\"Pastor Alemán\", \"Donald\", 4)\n",
        "p.ladrar()\n",
        "p.get_raza()\n",
        "p.get_nombre()\n",
        "p.get_edad()\n",
        "\n",
        "print(\"Número de patas del perro =\", p.numero_patas)"
      ],
      "execution_count": null,
      "outputs": [
        {
          "output_type": "stream",
          "name": "stdout",
          "text": [
            "Guau\n",
            "Pastor Alemán\n",
            "Donald\n",
            "4\n",
            "Número de patas del perro = 4\n"
          ]
        }
      ]
    },
    {
      "cell_type": "code",
      "metadata": {
        "colab": {
          "base_uri": "https://localhost:8080/"
        },
        "id": "3qH8C_6QQ-SU",
        "outputId": "4bf7800d-b4b9-4b78-fde4-e6340a725ab7"
      },
      "source": [
        "# Crear una clase - Versión 1.7\n",
        "\n",
        "class Perro:\n",
        "  numero_patas = 4  # Variable de clase - Pertenece a todos los objetos\n",
        "  def __init__(self, raza, nombre, edad): # Recibe la raza, el nombre y la edad\n",
        "    self.raza = raza\n",
        "    self.nombre = nombre\n",
        "    self.edad = edad\n",
        "  def ladrar(self):\n",
        "    print(\"El perro está atento: Guau !!!\")\n",
        "  def get_raza(self): # Obtener la raza\n",
        "    print(\"La raza del perro es =\", self.raza)\n",
        "  def get_nombre(self): # Obtener el nombre\n",
        "    print(\"El nombre del perro es =\", self.nombre)\n",
        "  def get_edad(self): # Obtener la edad\n",
        "    print(\"La edad del perro es =\", self.edad)\n",
        "\n",
        "p = Perro(\"Pastor Alemán\", \"Donald\", 4)\n",
        "p.ladrar()\n",
        "p.get_raza()\n",
        "p.get_nombre()\n",
        "p.get_edad()\n",
        "\n",
        "print(\"Número de patas del perro =\", p.numero_patas)"
      ],
      "execution_count": null,
      "outputs": [
        {
          "output_type": "stream",
          "name": "stdout",
          "text": [
            "El perro está atento: Guau !!!\n",
            "La raza del perro es = Pastor Alemán\n",
            "El nombre del perro es = Donald\n",
            "La edad del perro es = 4\n",
            "Número de patas del perro = 4\n"
          ]
        }
      ]
    },
    {
      "cell_type": "markdown",
      "metadata": {
        "id": "mn9EBjXiR6Z_"
      },
      "source": [
        "## TALLER\n",
        "\n",
        "1) Crear una clase para generar objetos\n",
        "\n",
        "- Gato\n",
        "\n",
        "2) Crear una clase para representar objetos\n",
        "\n",
        "- Moto\n",
        "\n",
        "NOTA: Estas clases se deben crear en COLAB\n",
        "\n",
        "3) Escribir un Paper sencillo en donde coloquen toda la teoría y los talleres realizados en COLAB\n",
        "\n",
        "4) Subir todo a Classroom, al espacio designado por el profesor en la segunda previa\n",
        "\n",
        "5) SUBIR ESTE MATERIAL A Github"
      ]
    },
    {
      "cell_type": "markdown",
      "metadata": {
        "id": "kGqgYFZ-Ie8c"
      },
      "source": [
        "SOLUCIÓN"
      ]
    },
    {
      "cell_type": "code",
      "metadata": {
        "colab": {
          "base_uri": "https://localhost:8080/"
        },
        "id": "0Xy11RxMBl9e",
        "outputId": "89f6db57-59e3-41d6-e4ee-bd717a0b3c67"
      },
      "source": [
        "class Gato:\n",
        "  numero_patas = 4  # Variable de clase - Pertenece a todos los objetos\n",
        "  def __init__(self, raza, nombre, edad): # Recibe la raza, el nombre y la edad\n",
        "    self.raza = raza\n",
        "    self.nombre = nombre\n",
        "    self.edad = edad\n",
        "  def maullar(self):\n",
        "    print(\"El gato está atento: Miau !!!\")\n",
        "  def get_raza(self): # Obtener la raza\n",
        "    print(\"La raza del gato es =\", self.raza)\n",
        "  def get_nombre(self): # Obtener el nombre\n",
        "    print(\"El nombre del gato es =\", self.nombre)\n",
        "  def get_edad(self): # Obtener la edad\n",
        "    print(\"La edad del gato es =\", self.edad, \"años\")\n",
        "\n",
        "g = Gato(\"Persa\", \"Cleo\", 2)\n",
        "g.maullar()\n",
        "g.get_raza()\n",
        "g.get_nombre()\n",
        "g.get_edad()\n",
        "\n",
        "print(\"Número de patas del gato =\", g.numero_patas)"
      ],
      "execution_count": null,
      "outputs": [
        {
          "output_type": "stream",
          "name": "stdout",
          "text": [
            "El gato está atento: Miau !!!\n",
            "La raza del gato es = Persa\n",
            "El nombre del gato es = Cleo\n",
            "La edad del gato es = 2 años\n",
            "Número de patas del gato = 4\n"
          ]
        }
      ]
    },
    {
      "cell_type": "code",
      "metadata": {
        "colab": {
          "base_uri": "https://localhost:8080/"
        },
        "id": "E374MffFB952",
        "outputId": "6cdea00b-dcc0-4214-c92b-b63118503873"
      },
      "source": [
        "class Moto:\n",
        "  tipo_vehiculo = \"Motocicleta\"\n",
        "  def __init__(self, marca, cilindraje, modelo, color, espejos):\n",
        "    self.marca = marca\n",
        "    self.cilindraje = cilindraje\n",
        "    self.modelo = modelo\n",
        "    self.color = color\n",
        "    self.espejos = espejos\n",
        "  def encendido(self):\n",
        "    print(\"La moto enciende y emite un sonido: RUN RUN RUUUUUUUUN!!\")\n",
        "  def apagado(self):\n",
        "    print(\"La moto se apaga y el sonido que emitió se desvanece\")\n",
        "  def get_marca(self): # Obtener la marca\n",
        "    print(\"La marca de la moto es =\", self.marca)\n",
        "  def get_cilindraje(self): # Obtener el nombre\n",
        "    print(\"El cilindraje de la moto es =\", self.cilindraje)\n",
        "  def get_modelo(self): # Obtener la edad\n",
        "    print(\"El modelo de la moto es =\", self.modelo)\n",
        "  def get_color(self): # Obtener la edad\n",
        "    print(\"El color de la moto es =\", self.color)\n",
        "  def get_espejos(self): # Obtener la edad\n",
        "    print(\"La moto tiene = \", self.espejos, \" Espejos\")\n",
        "\n",
        "print(\"El tipo de vehiculo es =\", Moto.tipo_vehiculo)\n",
        "m = Moto(\"Ducatti\", \"250 cc\", \"Superlegera\",\"Roja\", 2 )\n",
        "print(\"\")\n",
        "m.encendido()\n",
        "print(\"\")\n",
        "m.apagado()\n",
        "print(\"\")\n",
        "m.get_cilindraje()\n",
        "print(\"\")\n",
        "m.get_modelo()\n",
        "print(\"\")\n",
        "m.get_color()\n",
        "print(\"\")\n",
        "m.get_espejos()"
      ],
      "execution_count": null,
      "outputs": [
        {
          "output_type": "stream",
          "name": "stdout",
          "text": [
            "El tipo de vehiculo es = Motocicleta\n",
            "\n",
            "La moto enciende y emite un sonido: RUN RUN RUUUUUUUUN!!\n",
            "\n",
            "La moto se apaga y el sonido que emitió se desvanece\n",
            "\n",
            "El cilindraje de la moto es = 250 cc\n",
            "\n",
            "El modelo de la moto es = Superlegera\n",
            "\n",
            "El color de la moto es = Roja\n",
            "\n",
            "La moto tiene =  2  Espejos\n"
          ]
        }
      ]
    }
  ]
}