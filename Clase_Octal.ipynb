{
  "nbformat": 4,
  "nbformat_minor": 0,
  "metadata": {
    "colab": {
      "name": "Clase Octal.ipynb",
      "provenance": [],
      "collapsed_sections": []
    },
    "kernelspec": {
      "name": "python3",
      "display_name": "Python 3"
    },
    "language_info": {
      "name": "python"
    }
  },
  "cells": [
    {
      "cell_type": "code",
      "metadata": {
        "id": "IVBJlLIaZbhE"
      },
      "source": [
        "# 1. Crear la clase Octal\n",
        "#    Esta clase maneja los números cuyos dígitos van desde 0 hasta 7\n",
        "#    La base es 8\n",
        "#    Los números de tipo Octal solamente pueden tener los dígitos:\n",
        "#    0, 1, 2, 3, 4, 5, 6, 7\n",
        "\n",
        "class Octal:\n",
        "  pass              # por ahora pasamos \n",
        "\n",
        "a = Octal()"
      ],
      "execution_count": null,
      "outputs": []
    },
    {
      "cell_type": "code",
      "metadata": {
        "colab": {
          "base_uri": "https://localhost:8080/"
        },
        "id": "k5y1AzAkaLnu",
        "outputId": "a53b09ae-36b0-4348-ea59-6e760a1e507e"
      },
      "source": [
        "# 2. Crear un constructor con un mensaje\n",
        "\n",
        "class Octal:\n",
        "  def __init__ (self):    # __init__ es el constructor\n",
        "    print(\"Este es el constructor\")\n",
        "\n",
        "a = Octal()"
      ],
      "execution_count": null,
      "outputs": [
        {
          "output_type": "stream",
          "name": "stdout",
          "text": [
            "Este es el constructor\n"
          ]
        }
      ]
    },
    {
      "cell_type": "code",
      "metadata": {
        "colab": {
          "base_uri": "https://localhost:8080/"
        },
        "id": "ActdfwsLaupJ",
        "outputId": "cfa27b98-430b-4841-a37f-7c8cb8912415"
      },
      "source": [
        "# 3. Modificar el constructor para que reciba el número en Octal\n",
        "\n",
        "class Octal:\n",
        "  def __init__ (self, dato):    #self es el nombre del objeto que está ahí\n",
        "    self.dato = dato\n",
        "\n",
        "a = Octal(\"37401\")\n",
        "print ( a.dato )"
      ],
      "execution_count": null,
      "outputs": [
        {
          "output_type": "stream",
          "name": "stdout",
          "text": [
            "37401\n"
          ]
        }
      ]
    },
    {
      "cell_type": "code",
      "metadata": {
        "colab": {
          "base_uri": "https://localhost:8080/"
        },
        "id": "vVCJb7W1bY-M",
        "outputId": "5ef0b045-965a-4d22-a1e3-b6dba1d06c35"
      },
      "source": [
        "# 4. Crear un método (función) para mostrar el contenido del objeto\n",
        "\n",
        "class Octal:\n",
        "  def __init__ (self, dato):\n",
        "    self.dato = dato\n",
        "  def string( self ):\n",
        "    print(self.dato)\n",
        "\n",
        "a = Octal(\"37401\")\n",
        "a.string()"
      ],
      "execution_count": null,
      "outputs": [
        {
          "output_type": "stream",
          "name": "stdout",
          "text": [
            "37401\n"
          ]
        }
      ]
    },
    {
      "cell_type": "code",
      "metadata": {
        "colab": {
          "base_uri": "https://localhost:8080/"
        },
        "id": "UkO1ntcUc4kF",
        "outputId": "540a5a3d-f83e-4672-ab74-f2d8cb7e20b4"
      },
      "source": [
        "# 5. Convertir la cadena que almacena el Octal, en una lista de strings ('')\n",
        "\n",
        "class Octal:\n",
        "  lista_octal = []\n",
        "\n",
        "  def __init__ ( self, cadena_octal ):\n",
        "    self.cadena_octal = cadena_octal\n",
        "    self.lista_octal = list( self.cadena_octal )\n",
        "  def string( self ):\n",
        "    print( self.cadena_octal )\n",
        "    print( self.lista_octal )\n",
        "\n",
        "a = Octal( \"37401\" )\n",
        "a.string()"
      ],
      "execution_count": null,
      "outputs": [
        {
          "output_type": "stream",
          "name": "stdout",
          "text": [
            "37401\n",
            "['3', '7', '4', '0', '1']\n"
          ]
        }
      ]
    },
    {
      "cell_type": "code",
      "metadata": {
        "colab": {
          "base_uri": "https://localhost:8080/"
        },
        "id": "ZKn5E6q5k5LW",
        "outputId": "c65c7d63-10e9-4431-8587-e14bf72281de"
      },
      "source": [
        "# 6. Convertir la lista de strings en una lista de enteros\n",
        "\n",
        "class Octal:\n",
        "  lista_octal = []\n",
        "\n",
        "  def __init__ ( self, cadena_octal ):\n",
        "    self.cadena_octal = cadena_octal\n",
        "    self.lista_octal = list( self.cadena_octal )\n",
        "\n",
        "    i = 0\n",
        "    for dato in self.lista_octal:\n",
        "      self.lista_octal[i] = int(dato)\n",
        "      i = i + 1\n",
        "\n",
        "  def string( self ):\n",
        "    print( self.cadena_octal )\n",
        "    print( self.lista_octal )\n",
        "\n",
        "a = Octal( \"37401\" )\n",
        "a.string()"
      ],
      "execution_count": null,
      "outputs": [
        {
          "output_type": "stream",
          "name": "stdout",
          "text": [
            "37401\n",
            "[3, 7, 4, 0, 1]\n"
          ]
        }
      ]
    },
    {
      "cell_type": "code",
      "metadata": {
        "colab": {
          "base_uri": "https://localhost:8080/"
        },
        "id": "6ho1kOY2o0vD",
        "outputId": "e734ba88-6f8c-473e-af2d-93529ef4a8d5"
      },
      "source": [
        "# 7. Invertir la lista para que coincida con los octales en metamáticas\n",
        "\n",
        "class Octal:\n",
        "  lista_octal = []\n",
        "\n",
        "  def __init__ ( self, cadena_octal ):\n",
        "    self.cadena_octal = cadena_octal\n",
        "    self.lista_octal = list( self.cadena_octal )\n",
        "\n",
        "    i = 0\n",
        "    for dato in self.lista_octal:\n",
        "      self.lista_octal[i] = int(dato)\n",
        "      i = i + 1\n",
        "\n",
        "    self.lista_octal = list(reversed(self.lista_octal))\n",
        "\n",
        "  def string( self ):\n",
        "    print( self.cadena_octal )\n",
        "    print( self.lista_octal )\n",
        "\n",
        "a = Octal( \"37401\" )\n",
        "a.string()"
      ],
      "execution_count": null,
      "outputs": [
        {
          "output_type": "stream",
          "name": "stdout",
          "text": [
            "37401\n",
            "[1, 0, 4, 7, 3]\n"
          ]
        }
      ]
    },
    {
      "cell_type": "code",
      "metadata": {
        "colab": {
          "base_uri": "https://localhost:8080/"
        },
        "id": "gphQjkMVoLDx",
        "outputId": "5d043534-2eaf-40c2-d45e-d6d0c0c3e4fc"
      },
      "source": [
        "# 8. Crear una función para encontrar el valor decimal del octal\n",
        "\n",
        "#se crea la clase octal\n",
        "class Octal:\n",
        "  #se define la variable base con el valor que usaremos en este caso OCTAL (equivale a 8)\n",
        "  base = 8\n",
        "  #se define la variable lista octal y se abre un array con []\n",
        "  lista_octal = []\n",
        "\n",
        "  #se inicia el constructor y se pide un parametro llamado cadena_octal\n",
        "  def __init__ ( self, cadena_octal ):\n",
        "    #se utiliza el self para llamar a la función y el (.) siguiente se utiliza para definir el parametro\n",
        "    self.cadena_octal = cadena_octal\n",
        "    #se llama a lista_octal y se define como una lista con el parametro cadena_octal\n",
        "    self.lista_octal = list( self.cadena_octal )\n",
        "\n",
        "    #se crea la variable i y se define como 0\n",
        "    i = 0\n",
        "    #Se crea una función for en la cual definimos los valores obtenidos de self.lista_octal como dato\n",
        "    for dato in self.lista_octal:\n",
        "      #Se define self.lista_octal [en la posición i] y sera definido como el dato obtenido transformado en entero\n",
        "      self.lista_octal[i] = int(dato)\n",
        "      #se suma 1 a la variable i para desplazarnos por la lista\n",
        "      i = i + 1\n",
        "      #se invierte el orden de la lista_octal con la función reversed\n",
        "    self.lista_octal = list(reversed(self.lista_octal))\n",
        "\n",
        "  #Se define la función decimal\n",
        "  def decimal( self ):\n",
        "    #variable número_decimal\n",
        "    numero_decimal = 0\n",
        "    #se crea la variable i y se define como 0\n",
        "    i = 0\n",
        "    #se crea la función for en la cual definimos los valores obtenidos de self.lista_octal como dato\n",
        "    for dato in self.lista_octal:\n",
        "      #Se crea la variable numero_decimal y se le suma la base elevada a 1 x lista_octal[en la posicion 1]\n",
        "      numero_decimal += self.base**i * self.lista_octal[i]\n",
        "      #se suma 1 a la variable i para desplazarnos por la lista\n",
        "      i = i + 1\n",
        "      #se retorna la variable numero decimal\n",
        "    return numero_decimal\n",
        "\n",
        "  #se crea la función string\n",
        "  def string( self ):\n",
        "    #se imprime la cadena_octal\n",
        "    print( self.cadena_octal )\n",
        "    #se imprime la lista_octal\n",
        "    print( self.lista_octal )\n",
        "\n",
        "#denominamos la variable a como laclase octal con el valor (\"37401\")\n",
        "a = Octal( \"37401\" )\n",
        "#utilizamos la variable a con su valor determinado y llamamos a string\n",
        "a.string()\n",
        "#imprimimos a con su valor determinado junto a la funcion decimal\n",
        "print( a.decimal() )"
      ],
      "execution_count": null,
      "outputs": [
        {
          "output_type": "stream",
          "name": "stdout",
          "text": [
            "37401\n",
            "[1, 0, 4, 7, 3]\n",
            "16129\n"
          ]
        }
      ]
    }
  ]
}